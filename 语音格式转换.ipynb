{
 "cells": [
  {
   "cell_type": "code",
   "execution_count": 2,
   "metadata": {},
   "outputs": [],
   "source": [
    "\n",
    "import os\n",
    "from pydub import AudioSegment"
   ]
  },
  {
   "cell_type": "code",
   "execution_count": 17,
   "metadata": {},
   "outputs": [],
   "source": [
    "path = '002.mp3'\n",
    "# path = '002.wav'"
   ]
  },
  {
   "cell_type": "code",
   "execution_count": 24,
   "metadata": {},
   "outputs": [],
   "source": [
    "# https://blog.csdn.net/y734564892/article/details/77585435\n",
    "from pydub import AudioSegment\n",
    "def mp3_to_wav16(mp3Path, wavPath):\n",
    "    x = AudioSegment.from_file(mp3Path, format='mp3') # bitrate='xxk'\n",
    "    x = x.set_channels(1)\n",
    "    x = x.set_frame_rate(16000)\n",
    "    x = x.set_sample_width(2)\n",
    "    x.export(wavPath, format='wav')\n",
    "    \n",
    "def wav_to_wav16(wavPath, new_wavPath):\n",
    "    x = AudioSegment.from_file(wavPath, format='wav', frame_rate=16000, channels=1, sample_width=2)\n",
    "    x = x.set_channels(1)\n",
    "    x = x.set_frame_rate(16000)\n",
    "    x = x.set_sample_width(2)\n",
    "    x.export(new_wavPath, format='wav')\n"
   ]
  },
  {
   "cell_type": "code",
   "execution_count": null,
   "metadata": {},
   "outputs": [],
   "source": []
  },
  {
   "cell_type": "code",
   "execution_count": 13,
   "metadata": {},
   "outputs": [
    {
     "name": "stdout",
     "output_type": "stream",
     "text": [
      "002 mp3\n"
     ]
    }
   ],
   "source": [
    "import librosa\n",
    "import soundfile as sf\n",
    "import warnings\n",
    "warnings.filterwarnings('ignore')\n",
    "\n",
    "def mp3_to_wav16(mp3Path, write2file=False, wavPath=None):\n",
    "    basename = os.path.basename(mp3Path)\n",
    "    preName = '.'.join(basename.split('.')[:-1])\n",
    "    sufName = basename.split('.')[-1]\n",
    "#     print(preName, sufName)\n",
    "    assert  sufName == 'mp3'\n",
    "    x, sr = librosa.load(mp3Path, sr=16000, mono=True)\n",
    "    if write2file:\n",
    "        sf.write(wavPath, x, samplerate=sr)\n",
    "        return \n",
    "    return x\n",
    "\n",
    "def wav_to_wav16(wavPath, write2file=False, new_wavPath=None):\n",
    "    basename = os.path.basename(wavPath)\n",
    "    preName = '.'.join(basename.split('.')[:-1])\n",
    "    sufName = basename.split('.')[-1]\n",
    "    assert  sufName == 'wav'\n",
    "    x, sr = librosa.load(wavPath, sr=16000, mono=True)\n",
    "    if write2file:\n",
    "        sf.write(new_wavPath, x, samplerate=sr)\n",
    "        return \n",
    "    return x\n",
    "\n",
    "mp3_to_wav16(path, write2file=True, wavPath='lalallalal.wav')"
   ]
  },
  {
   "cell_type": "code",
   "execution_count": 16,
   "metadata": {},
   "outputs": [
    {
     "data": {
      "text/plain": [
       "'mp3'"
      ]
     },
     "execution_count": 16,
     "metadata": {},
     "output_type": "execute_result"
    }
   ],
   "source": []
  },
  {
   "cell_type": "code",
   "execution_count": null,
   "metadata": {},
   "outputs": [],
   "source": []
  }
 ],
 "metadata": {
  "kernelspec": {
   "display_name": "Python [conda env:tf2]",
   "language": "python",
   "name": "conda-env-tf2-py"
  },
  "language_info": {
   "codemirror_mode": {
    "name": "ipython",
    "version": 3
   },
   "file_extension": ".py",
   "mimetype": "text/x-python",
   "name": "python",
   "nbconvert_exporter": "python",
   "pygments_lexer": "ipython3",
   "version": "3.7.4"
  }
 },
 "nbformat": 4,
 "nbformat_minor": 4
}
